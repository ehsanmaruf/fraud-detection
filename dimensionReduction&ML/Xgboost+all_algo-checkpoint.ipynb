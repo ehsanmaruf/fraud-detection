{
 "cells": [
  {
   "cell_type": "code",
   "execution_count": 60,
   "metadata": {
    "id": "tV_x8VlHxb9-"
   },
   "outputs": [],
   "source": [
    "import numpy as np\n",
    "import pandas as pd\n",
    "\n",
    "from sklearn.datasets import load_boston\n",
    "from sklearn.model_selection import train_test_split\n",
    "from sklearn.inspection import permutation_importance\n",
    "from matplotlib import pyplot as plt\n",
    "import seaborn as sns # for correlation heatmap\n",
    "from sklearn.ensemble import RandomForestClassifier\n",
    "from sklearn.tree import DecisionTreeClassifier\n",
    "\n",
    "from xgboost import XGBRegressor"
   ]
  },
  {
   "cell_type": "code",
   "execution_count": 61,
   "metadata": {
    "colab": {
     "base_uri": "https://localhost:8080/"
    },
    "id": "1qYQZle1zVO-",
    "outputId": "e29ebe99-dcb8-4536-eea3-c886bedb2357"
   },
   "outputs": [
    {
     "name": "stdout",
     "output_type": "stream",
     "text": [
      "           X1  X2  X3  X4  X5  X6  X7  X8  X9  X10  ...     X14    X15    X16  \\\n",
      "0       20000   2   2   1  24   2   2  -1  -1   -2  ...     689      0      0   \n",
      "1      120000   2   2   2  26  -1   2   0   0    0  ...    2682   3272   3455   \n",
      "2       90000   2   2   2  34   0   0   0   0    0  ...   13559  14331  14948   \n",
      "3       50000   2   2   1  37   0   0   0   0    0  ...   49291  28314  28959   \n",
      "4       50000   1   2   1  57  -1   0  -1   0    0  ...   35835  20940  19146   \n",
      "...       ...  ..  ..  ..  ..  ..  ..  ..  ..  ...  ...     ...    ...    ...   \n",
      "29995  220000   1   3   1  39   0   0   0   0    0  ...  208365  88004  31237   \n",
      "29996  150000   1   3   2  43  -1  -1  -1  -1    0  ...    3502   8979   5190   \n",
      "29997   30000   1   2   2  37   4   3   2  -1    0  ...    2758  20878  20582   \n",
      "29998   80000   1   3   1  41   1  -1   0   0    0  ...   76304  52774  11855   \n",
      "29999   50000   1   2   1  46   0   0   0   0    0  ...   49764  36535  32428   \n",
      "\n",
      "         X17    X18    X19    X20   X21    X22   X23  \n",
      "0          0      0    689      0     0      0     0  \n",
      "1       3261      0   1000   1000  1000      0  2000  \n",
      "2      15549   1518   1500   1000  1000   1000  5000  \n",
      "3      29547   2000   2019   1200  1100   1069  1000  \n",
      "4      19131   2000  36681  10000  9000    689   679  \n",
      "...      ...    ...    ...    ...   ...    ...   ...  \n",
      "29995  15980   8500  20000   5003  3047   5000  1000  \n",
      "29996      0   1837   3526   8998   129      0     0  \n",
      "29997  19357      0      0  22000  4200   2000  3100  \n",
      "29998  48944  85900   3409   1178  1926  52964  1804  \n",
      "29999  15313   2078   1800   1430  1000   1000  1000  \n",
      "\n",
      "[30000 rows x 23 columns]\n"
     ]
    }
   ],
   "source": [
    "boston = pd.read_csv('p2_mod.csv')\n",
    "X = boston.drop(columns='Y', axis=1)\n",
    "Y = boston['Y']\n",
    "print(X)\n",
    "# X_train, X_test, y_train, y_test = train_test_split(X, y, test_size=0.25, random_state=12)"
   ]
  },
  {
   "cell_type": "code",
   "execution_count": 62,
   "metadata": {
    "colab": {
     "base_uri": "https://localhost:8080/"
    },
    "id": "mFIibbWh51j_",
    "outputId": "8b92d167-1445-460d-e4db-58fc4c47ea1f"
   },
   "outputs": [
    {
     "name": "stdout",
     "output_type": "stream",
     "text": [
      "0        1\n",
      "1        1\n",
      "2        0\n",
      "3        0\n",
      "4        0\n",
      "        ..\n",
      "29995    0\n",
      "29996    0\n",
      "29997    1\n",
      "29998    1\n",
      "29999    1\n",
      "Name: Y, Length: 30000, dtype: int64\n"
     ]
    }
   ],
   "source": [
    "print(Y)"
   ]
  },
  {
   "cell_type": "code",
   "execution_count": 63,
   "metadata": {
    "id": "-sETkIK_57UI"
   },
   "outputs": [],
   "source": [
    "X_train, X_test, y_train, y_test = train_test_split(X, Y, test_size=0.3, random_state=12)"
   ]
  },
  {
   "cell_type": "code",
   "execution_count": 64,
   "metadata": {
    "colab": {
     "base_uri": "https://localhost:8080/"
    },
    "id": "NslRQHj06BO0",
    "outputId": "c281abec-5cf4-4366-b632-3b2d0f7fbc11"
   },
   "outputs": [
    {
     "data": {
      "text/plain": [
       "XGBRegressor(base_score=0.5, booster='gbtree', colsample_bylevel=1,\n",
       "             colsample_bynode=1, colsample_bytree=1, enable_categorical=False,\n",
       "             gamma=0, gpu_id=-1, importance_type=None,\n",
       "             interaction_constraints='', learning_rate=0.300000012,\n",
       "             max_delta_step=0, max_depth=6, min_child_weight=1, missing=nan,\n",
       "             monotone_constraints='()', n_estimators=100, n_jobs=6,\n",
       "             num_parallel_tree=1, predictor='auto', random_state=0, reg_alpha=0,\n",
       "             reg_lambda=1, scale_pos_weight=1, subsample=1, tree_method='exact',\n",
       "             validate_parameters=1, verbosity=None)"
      ]
     },
     "execution_count": 64,
     "metadata": {},
     "output_type": "execute_result"
    }
   ],
   "source": [
    "xgb = XGBRegressor(n_estimators=100)\n",
    "xgb.fit(X_train, y_train)"
   ]
  },
  {
   "cell_type": "code",
   "execution_count": 65,
   "metadata": {
    "colab": {
     "base_uri": "https://localhost:8080/"
    },
    "id": "Rxvbm6AO6Fed",
    "outputId": "041d7db4-bcfb-4741-ca0e-618ebef6828d"
   },
   "outputs": [
    {
     "data": {
      "text/plain": [
       "array([0.01844259, 0.01849818, 0.01844989, 0.01974565, 0.02195507,\n",
       "       0.26904345, 0.15018922, 0.03676548, 0.03909156, 0.0420329 ,\n",
       "       0.03422452, 0.0319807 , 0.02358672, 0.02745505, 0.0252305 ,\n",
       "       0.02611869, 0.02587478, 0.02632896, 0.02900187, 0.03504855,\n",
       "       0.02856853, 0.02686085, 0.02550645], dtype=float32)"
      ]
     },
     "execution_count": 65,
     "metadata": {},
     "output_type": "execute_result"
    }
   ],
   "source": [
    "xgb.feature_importances_"
   ]
  },
  {
   "cell_type": "code",
   "execution_count": 66,
   "metadata": {
    "id": "a_1iwe2B61kr"
   },
   "outputs": [],
   "source": [
    "perm_importance = permutation_importance(xgb, X_test, y_test)"
   ]
  },
  {
   "cell_type": "code",
   "execution_count": 67,
   "metadata": {
    "colab": {
     "base_uri": "https://localhost:8080/",
     "height": 297
    },
    "id": "5Gd7Pelj721i",
    "outputId": "2bca5250-1ce2-42a3-aa75-4104e9cad730"
   },
   "outputs": [
    {
     "data": {
      "text/plain": [
       "Text(0.5, 0, 'Permutation Importance')"
      ]
     },
     "execution_count": 67,
     "metadata": {},
     "output_type": "execute_result"
    },
    {
     "data": {
      "image/png": "[encoded data removed]",
      "text/plain": [
       "<Figure size 432x288 with 1 Axes>"
      ]
     },
     "metadata": {
      "needs_background": "light"
     },
     "output_type": "display_data"
    }
   ],
   "source": [
    "sorted_idx = perm_importance.importances_mean.argsort()\n",
    "plt.barh(boston.columns[sorted_idx], perm_importance.importances_mean[sorted_idx])\n",
    "plt.xlabel(\"Permutation Importance\")"
   ]
  },
  {
   "cell_type": "code",
   "execution_count": null,
   "metadata": {},
   "outputs": [],
   "source": []
  },
  {
   "cell_type": "code",
   "execution_count": 329,
   "metadata": {},
   "outputs": [],
   "source": [
    "select = [\"X6\",\"X7\", \"X1\", \"X12\", \"X16\",\"X14\",\"X20\",\"X15\",\"X17\",\"X19\",\"X18\",\"X9\",\"X13\",\"X5\",\"X10\",\"X21\",\"X11\",\"X22\",\"X8\",\"X23\",\"X4\",\"X3\",\"X2\",\"Y\"]\n",
    "new_df = boston[select]"
   ]
  },
  {
   "cell_type": "code",
   "execution_count": 330,
   "metadata": {},
   "outputs": [],
   "source": [
    "# x= boston.iloc[:,0:11].values\n",
    "# y= boston.iloc[:,11].values\n",
    "x = new_df.drop(columns='Y', axis=1)\n",
    "y = new_df['Y']"
   ]
  },
  {
   "cell_type": "code",
   "execution_count": 331,
   "metadata": {},
   "outputs": [
    {
     "name": "stdout",
     "output_type": "stream",
     "text": [
      "       X6  X7      X1     X12    X16     X14    X20    X15    X17    X19  ...  \\\n",
      "0       2   2   20000    3913      0     689      0      0      0    689  ...   \n",
      "1      -1   2  120000    2682   3455    2682   1000   3272   3261   1000  ...   \n",
      "2       0   0   90000   29239  14948   13559   1000  14331  15549   1500  ...   \n",
      "3       0   0   50000   46990  28959   49291   1200  28314  29547   2019  ...   \n",
      "4      -1   0   50000    8617  19146   35835  10000  20940  19131  36681  ...   \n",
      "...    ..  ..     ...     ...    ...     ...    ...    ...    ...    ...  ...   \n",
      "29995   0   0  220000  188948  31237  208365   5003  88004  15980  20000  ...   \n",
      "29996  -1  -1  150000    1683   5190    3502   8998   8979      0   3526  ...   \n",
      "29997   4   3   30000    3565  20582    2758  22000  20878  19357      0  ...   \n",
      "29998   1  -1   80000   -1645  11855   76304   1178  52774  48944   3409  ...   \n",
      "29999   0   0   50000   47929  32428   49764   1430  36535  15313   1800  ...   \n",
      "\n",
      "       X5  X10   X21  X11    X22  X8   X23  X4  X3  X2  \n",
      "0      24   -2     0   -2      0  -1     0   1   2   2  \n",
      "1      26    0  1000    2      0   0  2000   2   2   2  \n",
      "2      34    0  1000    0   1000   0  5000   2   2   2  \n",
      "3      37    0  1100    0   1069   0  1000   1   2   2  \n",
      "4      57    0  9000    0    689  -1   679   1   2   1  \n",
      "...    ..  ...   ...  ...    ...  ..   ...  ..  ..  ..  \n",
      "29995  39    0  3047    0   5000   0  1000   1   3   1  \n",
      "29996  43    0   129    0      0  -1     0   2   3   1  \n",
      "29997  37    0  4200    0   2000   2  3100   2   2   1  \n",
      "29998  41    0  1926   -1  52964   0  1804   1   3   1  \n",
      "29999  46    0  1000    0   1000   0  1000   1   2   1  \n",
      "\n",
      "[30000 rows x 23 columns]\n"
     ]
    }
   ],
   "source": [
    "print(x)"
   ]
  },
  {
   "cell_type": "code",
   "execution_count": 332,
   "metadata": {},
   "outputs": [],
   "source": [
    "X_train, X_test, y_train, y_test = train_test_split(x, y, test_size=0.3, random_state=42)"
   ]
  },
  {
   "cell_type": "code",
   "execution_count": 333,
   "metadata": {},
   "outputs": [],
   "source": [
    "from sklearn.preprocessing import StandardScaler\n",
    "scaler = StandardScaler()\n",
    "scaler.fit(X_train)\n",
    "X_train = scaler.transform(X_train)\n",
    "X_test = scaler.transform(X_test)"
   ]
  },
  {
   "cell_type": "code",
   "execution_count": null,
   "metadata": {},
   "outputs": [],
   "source": []
  },
  {
   "cell_type": "code",
   "execution_count": 334,
   "metadata": {},
   "outputs": [
    {
     "name": "stdout",
     "output_type": "stream",
     "text": [
      "KNN Algorithm Score: 80.60000000000001\n"
     ]
    }
   ],
   "source": [
    "#KNN\n",
    "from sklearn.neighbors import KNeighborsClassifier\n",
    "from sklearn.metrics import accuracy_score\n",
    "# knn = KNeighborsClassifier()\n",
    "classifier = KNeighborsClassifier(n_neighbors = 81)\n",
    "classifier.fit(X_train, y_train)\n",
    "# knn.fit(X_train,y_train)\n",
    "knn_score = classifier.score(X_test,y_test)*100\n",
    "print(\"KNN Algorithm Score:\", knn_score)"
   ]
  },
  {
   "cell_type": "code",
   "execution_count": 335,
   "metadata": {},
   "outputs": [
    {
     "name": "stdout",
     "output_type": "stream",
     "text": [
      "LogisticRegression Accuracy: 80.87777777777778\n"
     ]
    }
   ],
   "source": [
    "#LogisticRegression\n",
    "from sklearn.linear_model import LogisticRegression\n",
    "model = LogisticRegression()\n",
    "model.fit(X_train, y_train)\n",
    "lr_score = model.score(X_test, y_test)*100\n",
    "print(\"LogisticRegression Accuracy:\", lr_score)"
   ]
  },
  {
   "cell_type": "code",
   "execution_count": 336,
   "metadata": {},
   "outputs": [
    {
     "name": "stdout",
     "output_type": "stream",
     "text": [
      "Decision Tree Algorithm Score: 72.86666666666667\n"
     ]
    }
   ],
   "source": [
    "#DecisionTree\n",
    "from sklearn.ensemble import RandomForestClassifier\n",
    "from sklearn.tree import DecisionTreeClassifier\n",
    "dclf = DecisionTreeClassifier()\n",
    "dclf.fit(X_train,y_train)\n",
    "dt_score=dclf.score(X_test,y_test)*100\n",
    "print(\"Decision Tree Algorithm Score:\",dt_score)"
   ]
  },
  {
   "cell_type": "code",
   "execution_count": 337,
   "metadata": {},
   "outputs": [
    {
     "name": "stdout",
     "output_type": "stream",
     "text": [
      "SVM Accuracy: 81.84444444444445\n"
     ]
    }
   ],
   "source": [
    "#SVM\n",
    "from sklearn import svm\n",
    "from sklearn.svm import SVC\n",
    "vm = svm.SVC()\n",
    "vm.fit(X_train, y_train)\n",
    "svm_score = vm.score(X_test, y_test)*100\n",
    "print(\"SVM Accuracy:\", svm_score)"
   ]
  },
  {
   "cell_type": "code",
   "execution_count": 338,
   "metadata": {},
   "outputs": [
    {
     "name": "stdout",
     "output_type": "stream",
     "text": [
      "Random Forest Accuracy: 81.39999999999999\n"
     ]
    }
   ],
   "source": [
    "#RANDOM_FOREST\n",
    "clf = RandomForestClassifier(n_estimators= 100, random_state = 0, n_jobs = -1)\n",
    "clf.fit(X_train, y_train)\n",
    "y_pred = clf.predict(X_test)\n",
    "rf_score = accuracy_score(y_test,y_pred)*100\n",
    "print(\"Random Forest Accuracy:\", rf_score)"
   ]
  },
  {
   "cell_type": "code",
   "execution_count": 339,
   "metadata": {},
   "outputs": [
    {
     "name": "stdout",
     "output_type": "stream",
     "text": [
      "Naive Bayes Accuracy: 66.84444444444443\n"
     ]
    }
   ],
   "source": [
    "#Naive Bayes\n",
    "from sklearn.naive_bayes import BernoulliNB\n",
    "bng = BernoulliNB()\n",
    "bng.fit(X_train, y_train)\n",
    "nb_score = bng.score(X_test, y_test)*100\n",
    "print(\"Naive Bayes Accuracy:\", nb_score)"
   ]
  },
  {
   "cell_type": "code",
   "execution_count": 340,
   "metadata": {},
   "outputs": [
    {
     "name": "stdout",
     "output_type": "stream",
     "text": [
      "Multi Layer Perceptron Accuracy: 81.17777777777778\n"
     ]
    },
    {
     "name": "stderr",
     "output_type": "stream",
     "text": [
      "F:\\Anaconda_Python\\lib\\site-packages\\sklearn\\neural_network\\_multilayer_perceptron.py:614: ConvergenceWarning: Stochastic Optimizer: Maximum iterations (200) reached and the optimization hasn't converged yet.\n",
      "  warnings.warn(\n"
     ]
    }
   ],
   "source": [
    "#Multi Layer Perceptron\n",
    "from sklearn.neural_network import MLPClassifier\n",
    "mlp = MLPClassifier()\n",
    "mlp.fit(X_train, y_train)\n",
    "mlp_score = mlp.score(X_test, y_test)*100\n",
    "print(\"Multi Layer Perceptron Accuracy:\", mlp_score)"
   ]
  },
  {
   "cell_type": "code",
   "execution_count": 341,
   "metadata": {},
   "outputs": [
    {
     "name": "stdout",
     "output_type": "stream",
     "text": [
      "4\n",
      "Highest Accuracy is  81.84444444444445\n",
      "5\n",
      "Lowest Accuracy is  66.84444444444443\n",
      "Average Accuracy is  77.94444444444444\n"
     ]
    }
   ],
   "source": [
    "accuracy = [knn_score, dt_score, rf_score, lr_score, svm_score, nb_score, mlp_score]\n",
    "highest_accuracy = max(accuracy)\n",
    "lowest_accuracy = min(accuracy)\n",
    "avg = sum(accuracy)/ len(accuracy)\n",
    "print(accuracy.index(highest_accuracy))\n",
    "print(\"Highest Accuracy is \", highest_accuracy)\n",
    "print(accuracy.index(lowest_accuracy))\n",
    "print(\"Lowest Accuracy is \", lowest_accuracy)\n",
    "print(\"Average Accuracy is \", avg)"
   ]
  },
  {
   "cell_type": "code",
   "execution_count": null,
   "metadata": {},
   "outputs": [],
   "source": []
  },
  {
   "cell_type": "code",
   "execution_count": null,
   "metadata": {},
   "outputs": [],
   "source": []
  }
 ],
 "metadata": {
  "colab": {
   "collapsed_sections": [],
   "name": "Xgboost-knn.ipynb",
   "provenance": []
  },
  "kernelspec": {
   "display_name": "Python 3",
   "language": "python",
   "name": "python3"
  },
  "language_info": {
   "codemirror_mode": {
    "name": "ipython",
    "version": 3
   },
   "file_extension": ".py",
   "mimetype": "text/x-python",
   "name": "python",
   "nbconvert_exporter": "python",
   "pygments_lexer": "ipython3",
   "version": "3.8.8"
  }
 },
 "nbformat": 4,
 "nbformat_minor": 1
}
