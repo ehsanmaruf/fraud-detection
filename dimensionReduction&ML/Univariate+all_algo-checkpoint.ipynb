{
 "cells": [
  {
   "cell_type": "code",
   "execution_count": 1,
   "id": "89c87005",
   "metadata": {},
   "outputs": [],
   "source": [
    "import pandas as pd\n",
    "import numpy as np\n",
    "from sklearn.feature_selection import SelectKBest\n",
    "from sklearn.feature_selection import chi2\n",
    "data = pd.read_csv('p2_mod.csv')"
   ]
  },
  {
   "cell_type": "code",
   "execution_count": 2,
   "id": "6b91085c",
   "metadata": {},
   "outputs": [],
   "source": [
    "X = data.drop(columns='Y', axis=1)\n",
    "y = data['Y']"
   ]
  },
  {
   "cell_type": "code",
   "execution_count": 3,
   "id": "d63bfffd",
   "metadata": {},
   "outputs": [
    {
     "data": {
      "text/html": [
       "<div>\n",
       "<style scoped>\n",
       "    .dataframe tbody tr th:only-of-type {\n",
       "        vertical-align: middle;\n",
       "    }\n",
       "\n",
       "    .dataframe tbody tr th {\n",
       "        vertical-align: top;\n",
       "    }\n",
       "\n",
       "    .dataframe thead th {\n",
       "        text-align: right;\n",
       "    }\n",
       "</style>\n",
       "<table border=\"1\" class=\"dataframe\">\n",
       "  <thead>\n",
       "    <tr style=\"text-align: right;\">\n",
       "      <th></th>\n",
       "      <th>X1</th>\n",
       "      <th>X2</th>\n",
       "      <th>X3</th>\n",
       "      <th>X4</th>\n",
       "      <th>X5</th>\n",
       "      <th>X6</th>\n",
       "      <th>X7</th>\n",
       "      <th>X8</th>\n",
       "      <th>X9</th>\n",
       "      <th>X10</th>\n",
       "      <th>...</th>\n",
       "      <th>X15</th>\n",
       "      <th>X16</th>\n",
       "      <th>X17</th>\n",
       "      <th>X18</th>\n",
       "      <th>X19</th>\n",
       "      <th>X20</th>\n",
       "      <th>X21</th>\n",
       "      <th>X22</th>\n",
       "      <th>X23</th>\n",
       "      <th>Y</th>\n",
       "    </tr>\n",
       "  </thead>\n",
       "  <tbody>\n",
       "    <tr>\n",
       "      <th>0</th>\n",
       "      <td>20000</td>\n",
       "      <td>2</td>\n",
       "      <td>2</td>\n",
       "      <td>1</td>\n",
       "      <td>24</td>\n",
       "      <td>2</td>\n",
       "      <td>2</td>\n",
       "      <td>-1</td>\n",
       "      <td>-1</td>\n",
       "      <td>-2</td>\n",
       "      <td>...</td>\n",
       "      <td>0</td>\n",
       "      <td>0</td>\n",
       "      <td>0</td>\n",
       "      <td>0</td>\n",
       "      <td>689</td>\n",
       "      <td>0</td>\n",
       "      <td>0</td>\n",
       "      <td>0</td>\n",
       "      <td>0</td>\n",
       "      <td>1</td>\n",
       "    </tr>\n",
       "    <tr>\n",
       "      <th>1</th>\n",
       "      <td>120000</td>\n",
       "      <td>2</td>\n",
       "      <td>2</td>\n",
       "      <td>2</td>\n",
       "      <td>26</td>\n",
       "      <td>-1</td>\n",
       "      <td>2</td>\n",
       "      <td>0</td>\n",
       "      <td>0</td>\n",
       "      <td>0</td>\n",
       "      <td>...</td>\n",
       "      <td>3272</td>\n",
       "      <td>3455</td>\n",
       "      <td>3261</td>\n",
       "      <td>0</td>\n",
       "      <td>1000</td>\n",
       "      <td>1000</td>\n",
       "      <td>1000</td>\n",
       "      <td>0</td>\n",
       "      <td>2000</td>\n",
       "      <td>1</td>\n",
       "    </tr>\n",
       "    <tr>\n",
       "      <th>2</th>\n",
       "      <td>90000</td>\n",
       "      <td>2</td>\n",
       "      <td>2</td>\n",
       "      <td>2</td>\n",
       "      <td>34</td>\n",
       "      <td>0</td>\n",
       "      <td>0</td>\n",
       "      <td>0</td>\n",
       "      <td>0</td>\n",
       "      <td>0</td>\n",
       "      <td>...</td>\n",
       "      <td>14331</td>\n",
       "      <td>14948</td>\n",
       "      <td>15549</td>\n",
       "      <td>1518</td>\n",
       "      <td>1500</td>\n",
       "      <td>1000</td>\n",
       "      <td>1000</td>\n",
       "      <td>1000</td>\n",
       "      <td>5000</td>\n",
       "      <td>0</td>\n",
       "    </tr>\n",
       "    <tr>\n",
       "      <th>3</th>\n",
       "      <td>50000</td>\n",
       "      <td>2</td>\n",
       "      <td>2</td>\n",
       "      <td>1</td>\n",
       "      <td>37</td>\n",
       "      <td>0</td>\n",
       "      <td>0</td>\n",
       "      <td>0</td>\n",
       "      <td>0</td>\n",
       "      <td>0</td>\n",
       "      <td>...</td>\n",
       "      <td>28314</td>\n",
       "      <td>28959</td>\n",
       "      <td>29547</td>\n",
       "      <td>2000</td>\n",
       "      <td>2019</td>\n",
       "      <td>1200</td>\n",
       "      <td>1100</td>\n",
       "      <td>1069</td>\n",
       "      <td>1000</td>\n",
       "      <td>0</td>\n",
       "    </tr>\n",
       "    <tr>\n",
       "      <th>4</th>\n",
       "      <td>50000</td>\n",
       "      <td>1</td>\n",
       "      <td>2</td>\n",
       "      <td>1</td>\n",
       "      <td>57</td>\n",
       "      <td>-1</td>\n",
       "      <td>0</td>\n",
       "      <td>-1</td>\n",
       "      <td>0</td>\n",
       "      <td>0</td>\n",
       "      <td>...</td>\n",
       "      <td>20940</td>\n",
       "      <td>19146</td>\n",
       "      <td>19131</td>\n",
       "      <td>2000</td>\n",
       "      <td>36681</td>\n",
       "      <td>10000</td>\n",
       "      <td>9000</td>\n",
       "      <td>689</td>\n",
       "      <td>679</td>\n",
       "      <td>0</td>\n",
       "    </tr>\n",
       "  </tbody>\n",
       "</table>\n",
       "<p>5 rows × 24 columns</p>\n",
       "</div>"
      ],
      "text/plain": [
       "       X1  X2  X3  X4  X5  X6  X7  X8  X9  X10  ...    X15    X16    X17  \\\n",
       "0   20000   2   2   1  24   2   2  -1  -1   -2  ...      0      0      0   \n",
       "1  120000   2   2   2  26  -1   2   0   0    0  ...   3272   3455   3261   \n",
       "2   90000   2   2   2  34   0   0   0   0    0  ...  14331  14948  15549   \n",
       "3   50000   2   2   1  37   0   0   0   0    0  ...  28314  28959  29547   \n",
       "4   50000   1   2   1  57  -1   0  -1   0    0  ...  20940  19146  19131   \n",
       "\n",
       "    X18    X19    X20   X21   X22   X23  Y  \n",
       "0     0    689      0     0     0     0  1  \n",
       "1     0   1000   1000  1000     0  2000  1  \n",
       "2  1518   1500   1000  1000  1000  5000  0  \n",
       "3  2000   2019   1200  1100  1069  1000  0  \n",
       "4  2000  36681  10000  9000   689   679  0  \n",
       "\n",
       "[5 rows x 24 columns]"
      ]
     },
     "execution_count": 3,
     "metadata": {},
     "output_type": "execute_result"
    }
   ],
   "source": [
    "data.head()"
   ]
  },
  {
   "cell_type": "code",
   "execution_count": 4,
   "id": "1fc1b5b6",
   "metadata": {},
   "outputs": [
    {
     "name": "stdout",
     "output_type": "stream",
     "text": [
      "           X1  X2  X3  X4  X5  X6  X7  X8  X9  X10  ...     X14    X15    X16  \\\n",
      "0       20000   2   2   1  24   2   2  -1  -1   -2  ...     689      0      0   \n",
      "1      120000   2   2   2  26  -1   2   0   0    0  ...    2682   3272   3455   \n",
      "2       90000   2   2   2  34   0   0   0   0    0  ...   13559  14331  14948   \n",
      "3       50000   2   2   1  37   0   0   0   0    0  ...   49291  28314  28959   \n",
      "4       50000   1   2   1  57  -1   0  -1   0    0  ...   35835  20940  19146   \n",
      "...       ...  ..  ..  ..  ..  ..  ..  ..  ..  ...  ...     ...    ...    ...   \n",
      "29995  220000   1   3   1  39   0   0   0   0    0  ...  208365  88004  31237   \n",
      "29996  150000   1   3   2  43  -1  -1  -1  -1    0  ...    3502   8979   5190   \n",
      "29997   30000   1   2   2  37   4   3   2  -1    0  ...    2758  20878  20582   \n",
      "29998   80000   1   3   1  41   1  -1   0   0    0  ...   76304  52774  11855   \n",
      "29999   50000   1   2   1  46   0   0   0   0    0  ...   49764  36535  32428   \n",
      "\n",
      "         X17    X18    X19    X20   X21    X22   X23  \n",
      "0          0      0    689      0     0      0     0  \n",
      "1       3261      0   1000   1000  1000      0  2000  \n",
      "2      15549   1518   1500   1000  1000   1000  5000  \n",
      "3      29547   2000   2019   1200  1100   1069  1000  \n",
      "4      19131   2000  36681  10000  9000    689   679  \n",
      "...      ...    ...    ...    ...   ...    ...   ...  \n",
      "29995  15980   8500  20000   5003  3047   5000  1000  \n",
      "29996      0   1837   3526   8998   129      0     0  \n",
      "29997  19357      0      0  22000  4200   2000  3100  \n",
      "29998  48944  85900   3409   1178  1926  52964  1804  \n",
      "29999  15313   2078   1800   1430  1000   1000  1000  \n",
      "\n",
      "[30000 rows x 23 columns]\n"
     ]
    }
   ],
   "source": [
    "print(X)"
   ]
  },
  {
   "cell_type": "code",
   "execution_count": 5,
   "id": "eeab862f",
   "metadata": {},
   "outputs": [
    {
     "name": "stdout",
     "output_type": "stream",
     "text": [
      "0        1\n",
      "1        1\n",
      "2        0\n",
      "3        0\n",
      "4        0\n",
      "        ..\n",
      "29995    0\n",
      "29996    0\n",
      "29997    1\n",
      "29998    1\n",
      "29999    1\n",
      "Name: Y, Length: 30000, dtype: int64\n"
     ]
    }
   ],
   "source": [
    "print(y)"
   ]
  },
  {
   "cell_type": "code",
   "execution_count": 6,
   "id": "a105f44d",
   "metadata": {},
   "outputs": [],
   "source": [
    "from sklearn.feature_selection import SelectKBest"
   ]
  },
  {
   "cell_type": "code",
   "execution_count": 7,
   "id": "cb50b4ed",
   "metadata": {},
   "outputs": [],
   "source": [
    "from sklearn.feature_selection import f_classif"
   ]
  },
  {
   "cell_type": "code",
   "execution_count": 8,
   "id": "7606c819",
   "metadata": {},
   "outputs": [],
   "source": [
    "fit_features = SelectKBest(score_func = f_classif)"
   ]
  },
  {
   "cell_type": "code",
   "execution_count": 9,
   "id": "d70020d9",
   "metadata": {},
   "outputs": [
    {
     "data": {
      "text/plain": [
       "SelectKBest()"
      ]
     },
     "execution_count": 9,
     "metadata": {},
     "output_type": "execute_result"
    }
   ],
   "source": [
    "fit_features.fit(X,y)"
   ]
  },
  {
   "cell_type": "code",
   "execution_count": 10,
   "id": "6e629a3f",
   "metadata": {},
   "outputs": [],
   "source": [
    "score_col = pd.DataFrame(fit_features.scores_, columns = ['Score Value'])"
   ]
  },
  {
   "cell_type": "code",
   "execution_count": 11,
   "id": "61c5ce72",
   "metadata": {},
   "outputs": [],
   "source": [
    "name_col = pd.DataFrame(X.columns)"
   ]
  },
  {
   "cell_type": "code",
   "execution_count": 12,
   "id": "afb62274",
   "metadata": {},
   "outputs": [],
   "source": [
    "top_features = pd.concat([name_col, score_col], axis =1)"
   ]
  },
  {
   "cell_type": "code",
   "execution_count": 13,
   "id": "956c561e",
   "metadata": {},
   "outputs": [
    {
     "data": {
      "text/html": [
       "<div>\n",
       "<style scoped>\n",
       "    .dataframe tbody tr th:only-of-type {\n",
       "        vertical-align: middle;\n",
       "    }\n",
       "\n",
       "    .dataframe tbody tr th {\n",
       "        vertical-align: top;\n",
       "    }\n",
       "\n",
       "    .dataframe thead th {\n",
       "        text-align: right;\n",
       "    }\n",
       "</style>\n",
       "<table border=\"1\" class=\"dataframe\">\n",
       "  <thead>\n",
       "    <tr style=\"text-align: right;\">\n",
       "      <th></th>\n",
       "      <th>0</th>\n",
       "      <th>Score Value</th>\n",
       "    </tr>\n",
       "  </thead>\n",
       "  <tbody>\n",
       "    <tr>\n",
       "      <th>0</th>\n",
       "      <td>X1</td>\n",
       "      <td>724.068539</td>\n",
       "    </tr>\n",
       "    <tr>\n",
       "      <th>1</th>\n",
       "      <td>X2</td>\n",
       "      <td>47.978854</td>\n",
       "    </tr>\n",
       "    <tr>\n",
       "      <th>2</th>\n",
       "      <td>X3</td>\n",
       "      <td>23.547112</td>\n",
       "    </tr>\n",
       "    <tr>\n",
       "      <th>3</th>\n",
       "      <td>X4</td>\n",
       "      <td>17.781271</td>\n",
       "    </tr>\n",
       "    <tr>\n",
       "      <th>4</th>\n",
       "      <td>X5</td>\n",
       "      <td>5.788556</td>\n",
       "    </tr>\n",
       "    <tr>\n",
       "      <th>5</th>\n",
       "      <td>X6</td>\n",
       "      <td>3537.714970</td>\n",
       "    </tr>\n",
       "    <tr>\n",
       "      <th>6</th>\n",
       "      <td>X7</td>\n",
       "      <td>2239.169136</td>\n",
       "    </tr>\n",
       "    <tr>\n",
       "      <th>7</th>\n",
       "      <td>X8</td>\n",
       "      <td>1757.466444</td>\n",
       "    </tr>\n",
       "    <tr>\n",
       "      <th>8</th>\n",
       "      <td>X9</td>\n",
       "      <td>1476.845967</td>\n",
       "    </tr>\n",
       "    <tr>\n",
       "      <th>9</th>\n",
       "      <td>X10</td>\n",
       "      <td>1304.591176</td>\n",
       "    </tr>\n",
       "    <tr>\n",
       "      <th>10</th>\n",
       "      <td>X11</td>\n",
       "      <td>1085.402485</td>\n",
       "    </tr>\n",
       "    <tr>\n",
       "      <th>11</th>\n",
       "      <td>X12</td>\n",
       "      <td>11.580532</td>\n",
       "    </tr>\n",
       "    <tr>\n",
       "      <th>12</th>\n",
       "      <td>X13</td>\n",
       "      <td>6.044238</td>\n",
       "    </tr>\n",
       "    <tr>\n",
       "      <th>13</th>\n",
       "      <td>X14</td>\n",
       "      <td>5.944388</td>\n",
       "    </tr>\n",
       "    <tr>\n",
       "      <th>14</th>\n",
       "      <td>X15</td>\n",
       "      <td>3.094745</td>\n",
       "    </tr>\n",
       "    <tr>\n",
       "      <th>15</th>\n",
       "      <td>X16</td>\n",
       "      <td>1.371087</td>\n",
       "    </tr>\n",
       "    <tr>\n",
       "      <th>16</th>\n",
       "      <td>X17</td>\n",
       "      <td>0.865820</td>\n",
       "    </tr>\n",
       "    <tr>\n",
       "      <th>17</th>\n",
       "      <td>X18</td>\n",
       "      <td>160.403810</td>\n",
       "    </tr>\n",
       "    <tr>\n",
       "      <th>18</th>\n",
       "      <td>X19</td>\n",
       "      <td>103.291524</td>\n",
       "    </tr>\n",
       "    <tr>\n",
       "      <th>19</th>\n",
       "      <td>X20</td>\n",
       "      <td>95.218011</td>\n",
       "    </tr>\n",
       "    <tr>\n",
       "      <th>20</th>\n",
       "      <td>X21</td>\n",
       "      <td>97.188000</td>\n",
       "    </tr>\n",
       "    <tr>\n",
       "      <th>21</th>\n",
       "      <td>X22</td>\n",
       "      <td>91.429801</td>\n",
       "    </tr>\n",
       "    <tr>\n",
       "      <th>22</th>\n",
       "      <td>X23</td>\n",
       "      <td>85.089045</td>\n",
       "    </tr>\n",
       "  </tbody>\n",
       "</table>\n",
       "</div>"
      ],
      "text/plain": [
       "      0  Score Value\n",
       "0    X1   724.068539\n",
       "1    X2    47.978854\n",
       "2    X3    23.547112\n",
       "3    X4    17.781271\n",
       "4    X5     5.788556\n",
       "5    X6  3537.714970\n",
       "6    X7  2239.169136\n",
       "7    X8  1757.466444\n",
       "8    X9  1476.845967\n",
       "9   X10  1304.591176\n",
       "10  X11  1085.402485\n",
       "11  X12    11.580532\n",
       "12  X13     6.044238\n",
       "13  X14     5.944388\n",
       "14  X15     3.094745\n",
       "15  X16     1.371087\n",
       "16  X17     0.865820\n",
       "17  X18   160.403810\n",
       "18  X19   103.291524\n",
       "19  X20    95.218011\n",
       "20  X21    97.188000\n",
       "21  X22    91.429801\n",
       "22  X23    85.089045"
      ]
     },
     "execution_count": 13,
     "metadata": {},
     "output_type": "execute_result"
    }
   ],
   "source": [
    "top_features"
   ]
  },
  {
   "cell_type": "code",
   "execution_count": 14,
   "id": "92acd0d9",
   "metadata": {},
   "outputs": [
    {
     "data": {
      "text/html": [
       "<div>\n",
       "<style scoped>\n",
       "    .dataframe tbody tr th:only-of-type {\n",
       "        vertical-align: middle;\n",
       "    }\n",
       "\n",
       "    .dataframe tbody tr th {\n",
       "        vertical-align: top;\n",
       "    }\n",
       "\n",
       "    .dataframe thead th {\n",
       "        text-align: right;\n",
       "    }\n",
       "</style>\n",
       "<table border=\"1\" class=\"dataframe\">\n",
       "  <thead>\n",
       "    <tr style=\"text-align: right;\">\n",
       "      <th></th>\n",
       "      <th>0</th>\n",
       "      <th>Score Value</th>\n",
       "    </tr>\n",
       "  </thead>\n",
       "  <tbody>\n",
       "    <tr>\n",
       "      <th>5</th>\n",
       "      <td>X6</td>\n",
       "      <td>3537.714970</td>\n",
       "    </tr>\n",
       "    <tr>\n",
       "      <th>6</th>\n",
       "      <td>X7</td>\n",
       "      <td>2239.169136</td>\n",
       "    </tr>\n",
       "    <tr>\n",
       "      <th>7</th>\n",
       "      <td>X8</td>\n",
       "      <td>1757.466444</td>\n",
       "    </tr>\n",
       "    <tr>\n",
       "      <th>8</th>\n",
       "      <td>X9</td>\n",
       "      <td>1476.845967</td>\n",
       "    </tr>\n",
       "    <tr>\n",
       "      <th>9</th>\n",
       "      <td>X10</td>\n",
       "      <td>1304.591176</td>\n",
       "    </tr>\n",
       "    <tr>\n",
       "      <th>10</th>\n",
       "      <td>X11</td>\n",
       "      <td>1085.402485</td>\n",
       "    </tr>\n",
       "    <tr>\n",
       "      <th>0</th>\n",
       "      <td>X1</td>\n",
       "      <td>724.068539</td>\n",
       "    </tr>\n",
       "    <tr>\n",
       "      <th>17</th>\n",
       "      <td>X18</td>\n",
       "      <td>160.403810</td>\n",
       "    </tr>\n",
       "    <tr>\n",
       "      <th>18</th>\n",
       "      <td>X19</td>\n",
       "      <td>103.291524</td>\n",
       "    </tr>\n",
       "    <tr>\n",
       "      <th>20</th>\n",
       "      <td>X21</td>\n",
       "      <td>97.188000</td>\n",
       "    </tr>\n",
       "    <tr>\n",
       "      <th>19</th>\n",
       "      <td>X20</td>\n",
       "      <td>95.218011</td>\n",
       "    </tr>\n",
       "    <tr>\n",
       "      <th>21</th>\n",
       "      <td>X22</td>\n",
       "      <td>91.429801</td>\n",
       "    </tr>\n",
       "    <tr>\n",
       "      <th>22</th>\n",
       "      <td>X23</td>\n",
       "      <td>85.089045</td>\n",
       "    </tr>\n",
       "    <tr>\n",
       "      <th>1</th>\n",
       "      <td>X2</td>\n",
       "      <td>47.978854</td>\n",
       "    </tr>\n",
       "    <tr>\n",
       "      <th>2</th>\n",
       "      <td>X3</td>\n",
       "      <td>23.547112</td>\n",
       "    </tr>\n",
       "  </tbody>\n",
       "</table>\n",
       "</div>"
      ],
      "text/plain": [
       "      0  Score Value\n",
       "5    X6  3537.714970\n",
       "6    X7  2239.169136\n",
       "7    X8  1757.466444\n",
       "8    X9  1476.845967\n",
       "9   X10  1304.591176\n",
       "10  X11  1085.402485\n",
       "0    X1   724.068539\n",
       "17  X18   160.403810\n",
       "18  X19   103.291524\n",
       "20  X21    97.188000\n",
       "19  X20    95.218011\n",
       "21  X22    91.429801\n",
       "22  X23    85.089045\n",
       "1    X2    47.978854\n",
       "2    X3    23.547112"
      ]
     },
     "execution_count": 14,
     "metadata": {},
     "output_type": "execute_result"
    }
   ],
   "source": [
    "top_features.nlargest(15,'Score Value')"
   ]
  },
  {
   "cell_type": "code",
   "execution_count": 15,
   "id": "c41fee45",
   "metadata": {},
   "outputs": [],
   "source": [
    "select = [\"X6\",\"X7\", \"X8\", \"X9\", \"X10\", \"X11\", \"X1\", \"X18\",\"X19\", \"X21\",\"X22\",\"X23\",\"Y\"]\n",
    "new_df = data[select]"
   ]
  },
  {
   "cell_type": "code",
   "execution_count": 16,
   "id": "631f6783",
   "metadata": {},
   "outputs": [],
   "source": [
    "x = new_df.drop(columns='Y', axis=1)\n",
    "y = new_df['Y']"
   ]
  },
  {
   "cell_type": "code",
   "execution_count": 17,
   "id": "827af3bb",
   "metadata": {},
   "outputs": [
    {
     "name": "stdout",
     "output_type": "stream",
     "text": [
      "       X6  X7  X8  X9  X10  X11      X1    X18    X19   X21    X22   X23\n",
      "0       2   2  -1  -1   -2   -2   20000      0    689     0      0     0\n",
      "1      -1   2   0   0    0    2  120000      0   1000  1000      0  2000\n",
      "2       0   0   0   0    0    0   90000   1518   1500  1000   1000  5000\n",
      "3       0   0   0   0    0    0   50000   2000   2019  1100   1069  1000\n",
      "4      -1   0  -1   0    0    0   50000   2000  36681  9000    689   679\n",
      "...    ..  ..  ..  ..  ...  ...     ...    ...    ...   ...    ...   ...\n",
      "29995   0   0   0   0    0    0  220000   8500  20000  3047   5000  1000\n",
      "29996  -1  -1  -1  -1    0    0  150000   1837   3526   129      0     0\n",
      "29997   4   3   2  -1    0    0   30000      0      0  4200   2000  3100\n",
      "29998   1  -1   0   0    0   -1   80000  85900   3409  1926  52964  1804\n",
      "29999   0   0   0   0    0    0   50000   2078   1800  1000   1000  1000\n",
      "\n",
      "[30000 rows x 12 columns]\n"
     ]
    }
   ],
   "source": [
    "print(x)"
   ]
  },
  {
   "cell_type": "code",
   "execution_count": 18,
   "id": "3a901f06",
   "metadata": {},
   "outputs": [],
   "source": [
    "from sklearn.model_selection import train_test_split"
   ]
  },
  {
   "cell_type": "code",
   "execution_count": 19,
   "id": "c6256d0e",
   "metadata": {},
   "outputs": [],
   "source": [
    "X_train, X_test, y_train, y_test = train_test_split(x, y, test_size=0.3, random_state=42)"
   ]
  },
  {
   "cell_type": "code",
   "execution_count": 20,
   "id": "95658858",
   "metadata": {},
   "outputs": [],
   "source": [
    "from sklearn.preprocessing import StandardScaler\n",
    "scaler = StandardScaler()\n",
    "scaler.fit(X_train)\n",
    "X_train = scaler.transform(X_train)\n",
    "X_test = scaler.transform(X_test)"
   ]
  },
  {
   "cell_type": "code",
   "execution_count": null,
   "id": "461595ff",
   "metadata": {},
   "outputs": [],
   "source": []
  },
  {
   "cell_type": "code",
   "execution_count": 21,
   "id": "831da788",
   "metadata": {},
   "outputs": [
    {
     "name": "stdout",
     "output_type": "stream",
     "text": [
      "KNN Algorithm Score: 81.62222222222222\n"
     ]
    }
   ],
   "source": [
    "#KNN\n",
    "from sklearn.neighbors import KNeighborsClassifier\n",
    "from sklearn.metrics import accuracy_score\n",
    "# knn = KNeighborsClassifier()\n",
    "classifier = KNeighborsClassifier(n_neighbors = 81)\n",
    "classifier.fit(X_train, y_train)\n",
    "# knn.fit(X_train,y_train)\n",
    "knn_score = classifier.score(X_test,y_test)*100\n",
    "print(\"KNN Algorithm Score:\", knn_score)"
   ]
  },
  {
   "cell_type": "code",
   "execution_count": 22,
   "id": "187d3210",
   "metadata": {},
   "outputs": [
    {
     "name": "stdout",
     "output_type": "stream",
     "text": [
      "LogisticRegression Accuracy: 80.85555555555555\n"
     ]
    }
   ],
   "source": [
    "#LogisticRegression\n",
    "from sklearn.linear_model import LogisticRegression\n",
    "model = LogisticRegression()\n",
    "model.fit(X_train, y_train)\n",
    "lr_score = model.score(X_test, y_test)*100\n",
    "print(\"LogisticRegression Accuracy:\", lr_score)"
   ]
  },
  {
   "cell_type": "code",
   "execution_count": 23,
   "id": "0d8ae862",
   "metadata": {},
   "outputs": [
    {
     "name": "stdout",
     "output_type": "stream",
     "text": [
      "Decision Tree Algorithm Score: 72.6888888888889\n"
     ]
    }
   ],
   "source": [
    "#DecisionTree\n",
    "from sklearn.ensemble import RandomForestClassifier\n",
    "from sklearn.tree import DecisionTreeClassifier\n",
    "dclf = DecisionTreeClassifier()\n",
    "dclf.fit(X_train,y_train)\n",
    "dt_score=dclf.score(X_test,y_test)*100\n",
    "print(\"Decision Tree Algorithm Score:\",dt_score)"
   ]
  },
  {
   "cell_type": "code",
   "execution_count": 24,
   "id": "6e4d3d7c",
   "metadata": {},
   "outputs": [
    {
     "name": "stdout",
     "output_type": "stream",
     "text": [
      "SVM Accuracy: 82.1\n"
     ]
    }
   ],
   "source": [
    "#SVM\n",
    "from sklearn import svm\n",
    "from sklearn.svm import SVC\n",
    "vm = svm.SVC()\n",
    "vm.fit(X_train, y_train)\n",
    "svm_score = vm.score(X_test, y_test)*100\n",
    "print(\"SVM Accuracy:\", svm_score)"
   ]
  },
  {
   "cell_type": "code",
   "execution_count": 25,
   "id": "d46332e8",
   "metadata": {},
   "outputs": [
    {
     "name": "stdout",
     "output_type": "stream",
     "text": [
      "Random Forest Accuracy: 81.17777777777778\n"
     ]
    }
   ],
   "source": [
    "#RANDOM_FOREST\n",
    "clf = RandomForestClassifier(n_estimators= 100, random_state = 0, n_jobs = -1)\n",
    "clf.fit(X_train, y_train)\n",
    "y_pred = clf.predict(X_test)\n",
    "rf_score = accuracy_score(y_test,y_pred)*100\n",
    "print(\"Random Forest Accuracy:\", rf_score)"
   ]
  },
  {
   "cell_type": "code",
   "execution_count": 26,
   "id": "ca4aa86b",
   "metadata": {},
   "outputs": [
    {
     "name": "stdout",
     "output_type": "stream",
     "text": [
      "Naive Bayes Accuracy: 67.38888888888889\n"
     ]
    }
   ],
   "source": [
    "#Naive Bayes\n",
    "from sklearn.naive_bayes import BernoulliNB\n",
    "bng = BernoulliNB()\n",
    "bng.fit(X_train, y_train)\n",
    "nb_score = bng.score(X_test, y_test)*100\n",
    "print(\"Naive Bayes Accuracy:\", nb_score)"
   ]
  },
  {
   "cell_type": "code",
   "execution_count": 27,
   "id": "0302b8d0",
   "metadata": {},
   "outputs": [
    {
     "name": "stdout",
     "output_type": "stream",
     "text": [
      "Multi Layer Perceptron Accuracy: 81.84444444444445\n"
     ]
    }
   ],
   "source": [
    "#Multi Layer Perceptron\n",
    "from sklearn.neural_network import MLPClassifier\n",
    "mlp = MLPClassifier()\n",
    "mlp.fit(X_train, y_train)\n",
    "mlp_score = mlp.score(X_test, y_test)*100\n",
    "print(\"Multi Layer Perceptron Accuracy:\", mlp_score)"
   ]
  },
  {
   "cell_type": "code",
   "execution_count": 28,
   "id": "e6abef74",
   "metadata": {},
   "outputs": [
    {
     "name": "stdout",
     "output_type": "stream",
     "text": [
      "4\n",
      "Highest Accuracy is  82.1\n",
      "5\n",
      "Lowest Accuracy is  67.38888888888889\n",
      "Average Accuracy is  78.23968253968255\n"
     ]
    }
   ],
   "source": [
    "accuracy = [knn_score, dt_score, rf_score, lr_score, svm_score, nb_score, mlp_score]\n",
    "highest_accuracy = max(accuracy)\n",
    "lowest_accuracy = min(accuracy)\n",
    "avg = sum(accuracy)/ len(accuracy)\n",
    "print(accuracy.index(highest_accuracy))\n",
    "print(\"Highest Accuracy is \", highest_accuracy)\n",
    "print(accuracy.index(lowest_accuracy))\n",
    "print(\"Lowest Accuracy is \", lowest_accuracy)\n",
    "print(\"Average Accuracy is \", avg)"
   ]
  },
  {
   "cell_type": "code",
   "execution_count": null,
   "id": "c6ca955a",
   "metadata": {},
   "outputs": [],
   "source": []
  }
 ],
 "metadata": {
  "kernelspec": {
   "display_name": "Python 3",
   "language": "python",
   "name": "python3"
  },
  "language_info": {
   "codemirror_mode": {
    "name": "ipython",
    "version": 3
   },
   "file_extension": ".py",
   "mimetype": "text/x-python",
   "name": "python",
   "nbconvert_exporter": "python",
   "pygments_lexer": "ipython3",
   "version": "3.8.8"
  }
 },
 "nbformat": 4,
 "nbformat_minor": 5
}
